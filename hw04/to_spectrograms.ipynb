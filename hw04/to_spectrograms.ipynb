{
 "cells": [
  {
   "cell_type": "code",
   "execution_count": 1,
   "metadata": {},
   "outputs": [],
   "source": [
    "import os\n",
    "from time import time\n",
    "\n",
    "import thinkdsp as tp\n",
    "import matplotlib.pyplot as plt\n",
    "import multiprocess as mp"
   ]
  },
  {
   "cell_type": "code",
   "execution_count": 2,
   "metadata": {},
   "outputs": [],
   "source": [
    "FILE_PATH_INPUT = \"my_test_audio\"\n",
    "FILE_PATH_OUTPUT = \"my_test_spec\"\n",
    "\n",
    "CLASSES = [\"down\", \"go\", \"left\", \"no\", \"right\", \"stop\", \"up\", \"yes\"]"
   ]
  },
  {
   "cell_type": "code",
   "execution_count": 3,
   "metadata": {},
   "outputs": [],
   "source": [
    "def make_specs(file_path_input: str, file_path_output: str):\n",
    "    wave = tp.read_wave(f\"{file_path_input}\")\n",
    "    spectrogram = wave.make_spectrogram(seg_length=1024)\n",
    "    spectrogram.plot(high=5000)\n",
    "    plt.axis('off')\n",
    "    plt.savefig(f'{file_path_output}.png', bbox_inches='tight', pad_inches=0)\n",
    "    plt.close()"
   ]
  },
  {
   "cell_type": "code",
   "execution_count": 4,
   "metadata": {},
   "outputs": [
    {
     "name": "stdout",
     "output_type": "stream",
     "text": [
      "Start time: 1682350630.798048\n",
      "Elapsed time: 19.272587060928345\n",
      "Elapsed time: 16.87527823448181\n",
      "Elapsed time: 14.396614074707031\n",
      "Elapsed time: 15.187994956970215\n",
      "Elapsed time: 15.27961015701294\n",
      "Elapsed time: 15.463497161865234\n",
      "Elapsed time: 14.161764144897461\n",
      "Elapsed time: 17.520557165145874\n"
     ]
    }
   ],
   "source": [
    "pool = mp.Pool(4)\n",
    "\n",
    "time_start = time()\n",
    "print(f\"Start time: {time_start}\")\n",
    "for cl in CLASSES:\n",
    "    file_path_input = f\"{FILE_PATH_INPUT}/{cl}\"\n",
    "    file_path_output = f\"{FILE_PATH_OUTPUT}/{cl}\"\n",
    "    files = list(filter(lambda x: x[-3:] == 'wav', os.listdir(file_path_input)))\n",
    "    files = [\n",
    "        (os.path.join(file_path_input, file), os.path.join(file_path_output, file[:-4]))\n",
    "        for file in files\n",
    "    ]\n",
    "    # make_specs(file_path_input_list, file_path_input, file_path_output)\n",
    "    pool.starmap(make_specs, files)\n",
    "    print(f\"Elapsed time: {time() - time_start}\")\n",
    "    time_start = time()\n",
    "\n",
    "pool.close()"
   ]
  },
  {
   "cell_type": "code",
   "execution_count": 5,
   "metadata": {},
   "outputs": [],
   "source": [
    "# FILE_PATH_INPUT = \"train_audio/yes\"\n",
    "# FILE_PATH_OUTPUT = \"train_spec/yes\"\n",
    "# FILE_PATH_INPUT_LIST = os.listdir(FILE_PATH_INPUT)\n",
    "# FILE_PATH_INPUT_LIST[:10]"
   ]
  },
  {
   "cell_type": "code",
   "execution_count": 6,
   "metadata": {},
   "outputs": [],
   "source": [
    "# for i in range(len(FILE_PATH_INPUT_LIST)):\n",
    "#     wave = tp.read_wave(f\"{FILE_PATH_INPUT}/{FILE_PATH_INPUT_LIST[i]}\")\n",
    "#     spectrogram = wave.make_spectrogram(seg_length=1024)\n",
    "#     spectrogram.plot(high=5000)\n",
    "#     plt.axis('off')\n",
    "#     plt.savefig(f'{FILE_PATH_OUTPUT}/{i}.png', bbox_inches='tight', pad_inches=0)"
   ]
  }
 ],
 "metadata": {
  "kernelspec": {
   "display_name": "base",
   "language": "python",
   "name": "python3"
  },
  "language_info": {
   "codemirror_mode": {
    "name": "ipython",
    "version": 3
   },
   "file_extension": ".py",
   "mimetype": "text/x-python",
   "name": "python",
   "nbconvert_exporter": "python",
   "pygments_lexer": "ipython3",
   "version": "3.10.6"
  },
  "orig_nbformat": 4
 },
 "nbformat": 4,
 "nbformat_minor": 2
}
